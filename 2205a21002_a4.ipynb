{
  "nbformat": 4,
  "nbformat_minor": 0,
  "metadata": {
    "colab": {
      "provenance": [],
      "authorship_tag": "ABX9TyMqh2akdvSjTtZo98vW4Rrc",
      "include_colab_link": true
    },
    "kernelspec": {
      "name": "python3",
      "display_name": "Python 3"
    },
    "language_info": {
      "name": "python"
    }
  },
  "cells": [
    {
      "cell_type": "markdown",
      "metadata": {
        "id": "view-in-github",
        "colab_type": "text"
      },
      "source": [
        "<a href=\"https://colab.research.google.com/github/saisrikruthi/python/blob/main/2205a21002_a4.ipynb\" target=\"_parent\"><img src=\"https://colab.research.google.com/assets/colab-badge.svg\" alt=\"Open In Colab\"/></a>"
      ]
    },
    {
      "cell_type": "code",
      "execution_count": 1,
      "metadata": {
        "colab": {
          "base_uri": "https://localhost:8080/"
        },
        "id": "qfyVO0kZl4eh",
        "outputId": "9919939c-4ba0-428b-f7cf-8e8da44461ae"
      },
      "outputs": [
        {
          "output_type": "stream",
          "name": "stdout",
          "text": [
            "Current date and time: 2024-09-03 11:14:31.392068\n",
            "enter previous month units80\n",
            "enter current month units89\n",
            "enter type of customer 0;res 1;com 2;adv1\n",
            "----------------------------\n",
            "TGNPDCL\n",
            "Formatted date and time: 2024-09-03 11:14:31\n",
            "----------------------------\n",
            "previous units= 80\n",
            "present units= 89\n",
            "energy consumu= 9\n",
            "eneryg charges= 63\n",
            "fixed charges= 60\n",
            "customer charges= 50\n",
            "electicity duty= 0.54\n",
            "bill_amount= 173.54\n",
            "----------------------------\n"
          ]
        }
      ],
      "source": [
        "import datetime\n",
        "now = datetime.datetime.now()\n",
        "print(\"Current date and time:\", now)\n",
        "formatted_now = now.strftime(\"%Y-%m-%d %H:%M:%S\")\n",
        "\n",
        "count=0\n",
        "pu=int(input(\"enter previous month units\"))\n",
        "cu=int(input(\"enter current month units\"))\n",
        "tc=int(input(\"enter type of customer 0;res 1;com 2;adv\"))\n",
        "u=cu-pu\n",
        "ed=0.06*u\n",
        "if(tc==0):\n",
        "  if(u<=100):\n",
        "    if(u<=50):\n",
        "      ec=1.95*u\n",
        "      fc=10\n",
        "      cc=40\n",
        "    else:\n",
        "      ec=3.10*u\n",
        "      fc=10\n",
        "      cc=70\n",
        "  else:\n",
        "    if(u>100 and u<=200):\n",
        "      ec=100*3.4+(u-100)*4.8\n",
        "      fc=10\n",
        "      cc=90\n",
        "    else:\n",
        "      print(\"this appilaction is not supported\")\n",
        "      count=count+1\n",
        "if(tc==1):\n",
        "  if(u<=50):\n",
        "    ec=7*u\n",
        "    fc=60\n",
        "    cc=50\n",
        "  else:\n",
        "    print(\"this appilaction is not supported\")\n",
        "    count=count+1\n",
        "if(tc==2):\n",
        "  ec=13*u\n",
        "  fc=70\n",
        "  cc=160\n",
        "\n",
        "if(count==0):\n",
        "  bill_amount=ec+fc+cc+ed\n",
        "  print(\"----------------------------\")\n",
        "  print(\"TGNPDCL\")\n",
        "  print(\"Formatted date and time:\",formatted_now)\n",
        "  print(\"----------------------------\")\n",
        "  print(\"previous units=\",pu)\n",
        "  print(\"present units=\",cu)\n",
        "  print(\"energy consumu=\",u)\n",
        "  print(\"eneryg charges=\",ec)\n",
        "  print(\"fixed charges=\",fc)\n",
        "  print(\"customer charges=\",cc)\n",
        "  print(\"electicity duty=\",ed)\n",
        "  print(\"bill_amount=\",bill_amount)\n",
        "  print(\"----------------------------\")"
      ]
    }
  ]
}
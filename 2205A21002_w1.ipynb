{
  "nbformat": 4,
  "nbformat_minor": 0,
  "metadata": {
    "colab": {
      "provenance": [],
      "authorship_tag": "ABX9TyOBT/e8qRY/ZL4JqvFZLsCi",
      "include_colab_link": true
    },
    "kernelspec": {
      "name": "python3",
      "display_name": "Python 3"
    },
    "language_info": {
      "name": "python"
    }
  },
  "cells": [
    {
      "cell_type": "markdown",
      "metadata": {
        "id": "view-in-github",
        "colab_type": "text"
      },
      "source": [
        "<a href=\"https://colab.research.google.com/github/saisrikruthi/python/blob/main/2205A21002_w1.ipynb\" target=\"_parent\"><img src=\"https://colab.research.google.com/assets/colab-badge.svg\" alt=\"Open In Colab\"/></a>"
      ]
    },
    {
      "cell_type": "markdown",
      "source": [
        "\n",
        "# ASSIGNMENT-**1**"
      ],
      "metadata": {
        "id": "O9Kocf6sCnX-"
      }
    },
    {
      "cell_type": "code",
      "execution_count": 6,
      "metadata": {
        "colab": {
          "base_uri": "https://localhost:8080/"
        },
        "id": "KrhgLQHdCkRV",
        "outputId": "ef65f80c-22b7-4280-acef-0a798de04feb"
      },
      "outputs": [
        {
          "output_type": "stream",
          "name": "stdout",
          "text": [
            "Enter the Rating of transformer in Voltamphere = 10000000\n",
            "Enter the power factor of transformer = 0.95\n",
            "Enter the loading of transformer = 0.75\n",
            "Enter the Full load copper losses of transformer in Watts = 500000\n",
            "Enter the core losses of Transformer in Watts = 100000\n",
            "copper losses of transformer at loading = 281250.0\n",
            "Efficiency of transformer = 94.92089925062447 %\n",
            "Load at where maximum efficiency =  0.4472135954999579\n"
          ]
        }
      ],
      "source": [
        "Rating=float(input(\"Enter the Rating of transformer in Voltamphere = \"))\n",
        "pf=float(input(\"Enter the power factor of transformer = \"))\n",
        "loading=float(input(\"Enter the loading of transformer = \"))\n",
        "copper_losses=float(input(\"Enter the Full load copper losses of transformer in Watts = \"))\n",
        "core_losses=float(input(\"Enter the core losses of Transformer in Watts = \"))\n",
        "Cu_losses=(copper_losses)*(loading**2)\n",
        "\n",
        "print(\"copper losses of transformer at loading =\",Cu_losses)\n",
        "efficiency=(((loading)*Rating*pf)/((loading*Rating*pf)+core_losses+Cu_losses))*100\n",
        "print(\"Efficiency of transformer =\",efficiency,\"%\")\n",
        "import math\n",
        "Max_efficiency=math.sqrt(core_losses/copper_losses)\n",
        "print(\"Load at where maximum efficiency = \",Max_efficiency)"
      ]
    }
  ]
}
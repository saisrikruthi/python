{
  "nbformat": 4,
  "nbformat_minor": 0,
  "metadata": {
    "colab": {
      "provenance": [],
      "authorship_tag": "ABX9TyPQikGLS5LM5zYqImvAWSNX",
      "include_colab_link": true
    },
    "kernelspec": {
      "name": "python3",
      "display_name": "Python 3"
    },
    "language_info": {
      "name": "python"
    }
  },
  "cells": [
    {
      "cell_type": "markdown",
      "metadata": {
        "id": "view-in-github",
        "colab_type": "text"
      },
      "source": [
        "<a href=\"https://colab.research.google.com/github/saisrikruthi/python/blob/main/2205a21002_w6.ipynb\" target=\"_parent\"><img src=\"https://colab.research.google.com/assets/colab-badge.svg\" alt=\"Open In Colab\"/></a>"
      ]
    },
    {
      "cell_type": "code",
      "execution_count": null,
      "metadata": {
        "colab": {
          "base_uri": "https://localhost:8080/"
        },
        "id": "Mp4-57dfYxWX",
        "outputId": "0ecea108-9aff-472d-cf0b-42b5895a8241"
      },
      "outputs": [
        {
          "output_type": "stream",
          "name": "stdout",
          "text": [
            "enter no of rows:6\n",
            "*\n",
            "\n",
            "**\n",
            "\n",
            "***\n",
            "\n",
            "****\n",
            "\n",
            "*****\n",
            "\n",
            "******\n",
            "\n"
          ]
        }
      ],
      "source": [
        "rows = int(input(\"enter no of rows:\"))\n",
        "for i in range(rows):\n",
        "    for j in range(i+1):\n",
        "        print(\"*\",end=\"\")\n",
        "    print(\"\\n\")"
      ]
    },
    {
      "cell_type": "code",
      "source": [
        "rows = int(input(\"Enter number of rows: \"))\n",
        "for i in range(rows):\n",
        "    for j in range(rows-i - 1):\n",
        "        print(\" \", end=\"\")\n",
        "    for j in range(i + 1):\n",
        "        print(\"*\", end=\"\")\n",
        "    print()\n"
      ],
      "metadata": {
        "colab": {
          "base_uri": "https://localhost:8080/"
        },
        "id": "I9ey9hfHbakl",
        "outputId": "a6dc845b-8ffc-45c6-b402-a45df55b47ed"
      },
      "execution_count": null,
      "outputs": [
        {
          "output_type": "stream",
          "name": "stdout",
          "text": [
            "Enter number of rows: 5\n",
            "    *\n",
            "   **\n",
            "  ***\n",
            " ****\n",
            "*****\n"
          ]
        }
      ]
    },
    {
      "cell_type": "code",
      "source": [
        "rows = int(input(\"Enter number of rows: \"))\n",
        "for i in range(rows):\n",
        "    for j in range(rows-i ):\n",
        "        print(\"+\", end=\"\")\n",
        "    for j in range(i + 1):\n",
        "        print(\" \", end=\"\")\n",
        "    print()"
      ],
      "metadata": {
        "colab": {
          "base_uri": "https://localhost:8080/"
        },
        "id": "8Z5k0MElfQje",
        "outputId": "f96e9f08-651d-4d17-d51b-7ac81159dbb1"
      },
      "execution_count": null,
      "outputs": [
        {
          "output_type": "stream",
          "name": "stdout",
          "text": [
            "Enter number of rows: 6\n",
            "++++++ \n",
            "+++++  \n",
            "++++   \n",
            "+++    \n",
            "++     \n",
            "+      \n"
          ]
        }
      ]
    },
    {
      "cell_type": "code",
      "source": [
        "rows = int(input(\"Enter number of rows: \"))\n",
        "\n",
        "for i in range(rows):\n",
        "    for j in range(i):\n",
        "        print(\" \", end=\"\")\n",
        "    for j in range(rows - i):\n",
        "        print(\"+\", end=\"\")\n",
        "    print()\n"
      ],
      "metadata": {
        "colab": {
          "base_uri": "https://localhost:8080/"
        },
        "id": "aXcBUlqteQSR",
        "outputId": "e9aa857f-6f70-4de5-defd-6da515d6a319"
      },
      "execution_count": null,
      "outputs": [
        {
          "output_type": "stream",
          "name": "stdout",
          "text": [
            "Enter number of rows: 6\n",
            "++++++\n",
            " +++++\n",
            "  ++++\n",
            "   +++\n",
            "    ++\n",
            "     +\n"
          ]
        }
      ]
    },
    {
      "cell_type": "code",
      "source": [
        "rows = int(input(\"Enter number of rows: \"))\n",
        "i = 0\n",
        "while i < rows:\n",
        "    j = 0\n",
        "    while j <= i:\n",
        "        print(\"*\", end=\"\")\n",
        "        j += 1\n",
        "    print(\"\\n\", end=\"\")\n",
        "    i += 1\n"
      ],
      "metadata": {
        "colab": {
          "base_uri": "https://localhost:8080/"
        },
        "id": "f5bUwd5Mgcyw",
        "outputId": "ad2c7b50-8331-4cdf-98e2-8e49240c82a3"
      },
      "execution_count": null,
      "outputs": [
        {
          "output_type": "stream",
          "name": "stdout",
          "text": [
            "Enter number of rows: 6\n",
            "*\n",
            "**\n",
            "***\n",
            "****\n",
            "*****\n",
            "******\n"
          ]
        }
      ]
    },
    {
      "cell_type": "code",
      "source": [
        "rows = int(input(\"Enter number of rows: \"))\n",
        "i = 0\n",
        "while i < rows:\n",
        "    j = 0\n",
        "    while j < (rows - i - 1):\n",
        "        print(\" \", end=\"\")\n",
        "        j += 1\n",
        "    j = 0\n",
        "    while j <= i:\n",
        "        print(\"*\", end=\"\")\n",
        "        j += 1\n",
        "    print()\n",
        "    i += 1\n"
      ],
      "metadata": {
        "colab": {
          "base_uri": "https://localhost:8080/"
        },
        "id": "swZ8O_pqhp73",
        "outputId": "befebbea-083e-4555-fa9e-8ff029dcf592"
      },
      "execution_count": null,
      "outputs": [
        {
          "output_type": "stream",
          "name": "stdout",
          "text": [
            "Enter number of rows: 5\n",
            "    *\n",
            "   **\n",
            "  ***\n",
            " ****\n",
            "*****\n"
          ]
        }
      ]
    },
    {
      "cell_type": "code",
      "source": [
        "rows = int(input(\"Enter number of rows: \"))\n",
        "i = 0\n",
        "while i < rows:\n",
        "    j = 0\n",
        "    while j < rows-i:\n",
        "        print(\"+\", end=\"\")\n",
        "        j += 1\n",
        "    j = 0\n",
        "    while j <=i:\n",
        "        print(\" \", end=\"\")\n",
        "        j += 1\n",
        "    print()\n",
        "    i += 1\n",
        "\n"
      ],
      "metadata": {
        "colab": {
          "base_uri": "https://localhost:8080/"
        },
        "id": "7IwUW1p-mSKb",
        "outputId": "66863378-88ef-424f-d858-ae18d07b690e"
      },
      "execution_count": null,
      "outputs": [
        {
          "output_type": "stream",
          "name": "stdout",
          "text": [
            "Enter number of rows: 6\n",
            "++++++ \n",
            "+++++  \n",
            "++++   \n",
            "+++    \n",
            "++     \n",
            "+      \n"
          ]
        }
      ]
    },
    {
      "cell_type": "code",
      "source": [
        "rows = int(input(\"Enter number of rows: \"))\n",
        "i = 0\n",
        "while i < rows:\n",
        "    j = 0\n",
        "    while j <= i:\n",
        "        print(\" \", end=\"\")\n",
        "        j += 1\n",
        "    j = 0\n",
        "    while j < rows-i:\n",
        "        print(\"+\", end=\"\")\n",
        "        j += 1\n",
        "    print()\n",
        "    i += 1"
      ],
      "metadata": {
        "colab": {
          "base_uri": "https://localhost:8080/"
        },
        "id": "tOmZmQnrmtuA",
        "outputId": "2f010bf0-61c6-47ac-a4bf-9cef03256d3d"
      },
      "execution_count": null,
      "outputs": [
        {
          "output_type": "stream",
          "name": "stdout",
          "text": [
            "Enter number of rows: 6\n",
            " ++++++\n",
            "  +++++\n",
            "   ++++\n",
            "    +++\n",
            "     ++\n",
            "      +\n"
          ]
        }
      ]
    }
  ]
}